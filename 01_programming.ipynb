{
  "nbformat": 4,
  "nbformat_minor": 0,
  "metadata": {
    "colab": {
      "provenance": [],
      "authorship_tag": "ABX9TyPE8Xnb1zn8JpBJ8HY0bMvY"
    },
    "kernelspec": {
      "name": "python3",
      "display_name": "Python 3"
    },
    "language_info": {
      "name": "python"
    }
  },
  "cells": [
    {
      "cell_type": "markdown",
      "source": [
        "# How to install Python for my windows"
      ],
      "metadata": {
        "id": "2S0XjTE0DbhT"
      }
    },
    {
      "cell_type": "markdown",
      "source": [
        "ravesh haye mokhtalefi baraye estefade kardan az python vojud dare:\n",
        "1. berin tooye site python.org va python ro download konin\n",
        "2. az google colab estefade konin\n",
        "3. anaconda ro download konin"
      ],
      "metadata": {
        "id": "aTam6fiAEkOh"
      }
    },
    {
      "cell_type": "markdown",
      "source": [
        "avalin kari ke mikhaim bokonim inke ke yek account github besazim.\n",
        "\n",
        "va inke manam follow konin:\n",
        "github.com/heispv"
      ],
      "metadata": {
        "id": "9zFAtL7-EEBg"
      }
    },
    {
      "cell_type": "markdown",
      "source": [
        "# Intro to Python"
      ],
      "metadata": {
        "id": "p6G2hprzIKRQ"
      }
    },
    {
      "cell_type": "code",
      "source": [
        "print(\"Hello world\")"
      ],
      "metadata": {
        "colab": {
          "base_uri": "https://localhost:8080/"
        },
        "id": "vh7wgENwL_E9",
        "outputId": "c2a75b25-34bd-4593-f2fb-38c434593c74"
      },
      "execution_count": null,
      "outputs": [
        {
          "output_type": "stream",
          "name": "stdout",
          "text": [
            "Hello world\n"
          ]
        }
      ]
    },
    {
      "cell_type": "code",
      "source": [
        "input(\"What is your name? \")"
      ],
      "metadata": {
        "colab": {
          "base_uri": "https://localhost:8080/",
          "height": 54
        },
        "id": "VPCAWRUOMYgE",
        "outputId": "2b628113-db95-4ebe-b0da-ab43b0cfb626"
      },
      "execution_count": null,
      "outputs": [
        {
          "name": "stdout",
          "output_type": "stream",
          "text": [
            "What is your name? Sam\n"
          ]
        },
        {
          "output_type": "execute_result",
          "data": {
            "text/plain": [
              "'Sam'"
            ],
            "application/vnd.google.colaboratory.intrinsic+json": {
              "type": "string"
            }
          },
          "metadata": {},
          "execution_count": 5
        }
      ]
    },
    {
      "cell_type": "code",
      "source": [
        "# khuruju input ro dakhele name zakhire mikone\n",
        "name = input(\"what is your name? \")"
      ],
      "metadata": {
        "colab": {
          "base_uri": "https://localhost:8080/"
        },
        "id": "_7bO80YKMwZB",
        "outputId": "483ba223-ef64-4aba-81c5-ecd50831a7bd"
      },
      "execution_count": null,
      "outputs": [
        {
          "name": "stdout",
          "output_type": "stream",
          "text": [
            "what is your name? Pendar\n"
          ]
        }
      ]
    },
    {
      "cell_type": "code",
      "source": [
        "name"
      ],
      "metadata": {
        "colab": {
          "base_uri": "https://localhost:8080/",
          "height": 36
        },
        "id": "HIpuarMMNYHn",
        "outputId": "864f511d-6076-451e-f2e2-a7202c0936fa"
      },
      "execution_count": null,
      "outputs": [
        {
          "output_type": "execute_result",
          "data": {
            "text/plain": [
              "'Pendar'"
            ],
            "application/vnd.google.colaboratory.intrinsic+json": {
              "type": "string"
            }
          },
          "metadata": {},
          "execution_count": 7
        }
      ]
    },
    {
      "cell_type": "code",
      "source": [
        "name2 = input(\"what is your name? \")"
      ],
      "metadata": {
        "colab": {
          "base_uri": "https://localhost:8080/"
        },
        "id": "WYsXGxhBNfcX",
        "outputId": "f04c9184-a6ce-4bdc-9aaa-711b6be69586"
      },
      "execution_count": null,
      "outputs": [
        {
          "name": "stdout",
          "output_type": "stream",
          "text": [
            "what is your name? Zahra\n"
          ]
        }
      ]
    },
    {
      "cell_type": "code",
      "source": [
        "name2"
      ],
      "metadata": {
        "colab": {
          "base_uri": "https://localhost:8080/",
          "height": 36
        },
        "id": "oeB15lxvN98Q",
        "outputId": "cfe2f0e6-516f-4685-d7d3-d97dc122548c"
      },
      "execution_count": null,
      "outputs": [
        {
          "output_type": "execute_result",
          "data": {
            "text/plain": [
              "'Zahra'"
            ],
            "application/vnd.google.colaboratory.intrinsic+json": {
              "type": "string"
            }
          },
          "metadata": {},
          "execution_count": 9
        }
      ]
    },
    {
      "cell_type": "markdown",
      "source": [
        "## Using Python as a basic calculator"
      ],
      "metadata": {
        "id": "XWWq8Ga-OAaa"
      }
    },
    {
      "cell_type": "markdown",
      "source": [
        "Mitoonim tooye python amailate sade va hatta pichide riazi ro anjam bedim.\n",
        "\n",
        "baraye anjam dadane amaliate pichide tar hamoonotor ke ghablan goftim, yek seri barname nevis oomadan package hayi ro dadan ke mitoonim oonaro download konim va bad import konim va dge injur lazem nist ke khodemoon hameye code esh ro bezanim."
      ],
      "metadata": {
        "id": "dFXxf6OXQDH1"
      }
    },
    {
      "cell_type": "code",
      "source": [
        "# mitoonim adad ro ba ham dge jam konim\n",
        "5 + 6"
      ],
      "metadata": {
        "colab": {
          "base_uri": "https://localhost:8080/"
        },
        "id": "tUbtFW-BQsvn",
        "outputId": "758492ec-2550-411a-ca5d-e56861581515"
      },
      "execution_count": null,
      "outputs": [
        {
          "output_type": "execute_result",
          "data": {
            "text/plain": [
              "11"
            ]
          },
          "metadata": {},
          "execution_count": 12
        }
      ]
    },
    {
      "cell_type": "code",
      "source": [
        "# mitoonim adad ro az ham dge kam bokonim\n",
        "12 - 4"
      ],
      "metadata": {
        "colab": {
          "base_uri": "https://localhost:8080/"
        },
        "id": "-3PpdUhaRAtT",
        "outputId": "a6edd1e3-ec66-41e9-bdc6-7568cd3e4589"
      },
      "execution_count": null,
      "outputs": [
        {
          "output_type": "execute_result",
          "data": {
            "text/plain": [
              "8"
            ]
          },
          "metadata": {},
          "execution_count": 16
        }
      ]
    },
    {
      "cell_type": "code",
      "source": [
        "# mitoonim az zarb estefade bokonim\n",
        "3 * 4"
      ],
      "metadata": {
        "colab": {
          "base_uri": "https://localhost:8080/"
        },
        "id": "lzQn8yoSRSQY",
        "outputId": "545c6376-eb3d-4e7e-c960-b19f30258e3d"
      },
      "execution_count": null,
      "outputs": [
        {
          "output_type": "execute_result",
          "data": {
            "text/plain": [
              "12"
            ]
          },
          "metadata": {},
          "execution_count": 18
        }
      ]
    },
    {
      "cell_type": "code",
      "source": [
        "# mitoonim do adad ro be tavan beresoonim\n",
        "3 ** 2"
      ],
      "metadata": {
        "colab": {
          "base_uri": "https://localhost:8080/"
        },
        "id": "ARJonfXtRxEJ",
        "outputId": "e6094533-10c7-4f55-9ce9-0e4b5d7e2d96"
      },
      "execution_count": null,
      "outputs": [
        {
          "output_type": "execute_result",
          "data": {
            "text/plain": [
              "9"
            ]
          },
          "metadata": {},
          "execution_count": 20
        }
      ]
    },
    {
      "cell_type": "code",
      "source": [
        "# mitoonim to adad ro bar ham dge taghsim bokonim\n",
        "5 / 2"
      ],
      "metadata": {
        "colab": {
          "base_uri": "https://localhost:8080/"
        },
        "id": "mL8tqUcURo2s",
        "outputId": "5d4d58e0-2c3a-4b63-db36-195ead8d986c"
      },
      "execution_count": null,
      "outputs": [
        {
          "output_type": "execute_result",
          "data": {
            "text/plain": [
              "2.5"
            ]
          },
          "metadata": {},
          "execution_count": 19
        }
      ]
    },
    {
      "cell_type": "code",
      "source": [
        "# miad taghsim ro anjam mide va be ma kharej ghesmat ro bar migardoone\n",
        "5 // 2"
      ],
      "metadata": {
        "colab": {
          "base_uri": "https://localhost:8080/"
        },
        "id": "98ke7id2R48B",
        "outputId": "fa975e64-9320-40b4-dc90-35441b0835b8"
      },
      "execution_count": null,
      "outputs": [
        {
          "output_type": "execute_result",
          "data": {
            "text/plain": [
              "2"
            ]
          },
          "metadata": {},
          "execution_count": 21
        }
      ]
    },
    {
      "cell_type": "code",
      "source": [
        "# agar bekhaim baghimande taghsim ro bedoonim\n",
        "5 % 2"
      ],
      "metadata": {
        "colab": {
          "base_uri": "https://localhost:8080/"
        },
        "id": "exPdXt7VSejz",
        "outputId": "34c6cd8b-73e3-45da-9087-753913585a79"
      },
      "execution_count": null,
      "outputs": [
        {
          "output_type": "execute_result",
          "data": {
            "text/plain": [
              "1"
            ]
          },
          "metadata": {},
          "execution_count": 22
        }
      ]
    },
    {
      "cell_type": "markdown",
      "source": [
        "# What you are going to do for the next session:\n",
        "1. Create a github account\n",
        "2. Create a google colab account\n",
        "3. Start learning how to type with 10 fingers -> check this website: https://www.typing.academy/typing-tutor/lessons"
      ],
      "metadata": {
        "id": "wdl1QQZXTIZC"
      }
    }
  ]
}